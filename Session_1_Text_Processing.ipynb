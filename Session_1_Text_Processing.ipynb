{
  "nbformat": 4,
  "nbformat_minor": 0,
  "metadata": {
    "colab": {
      "provenance": [],
      "gpuType": "T4",
      "include_colab_link": true
    },
    "kernelspec": {
      "name": "python3",
      "display_name": "Python 3"
    },
    "language_info": {
      "name": "python"
    },
    "accelerator": "GPU"
  },
  "cells": [
    {
      "cell_type": "markdown",
      "metadata": {
        "id": "view-in-github",
        "colab_type": "text"
      },
      "source": [
        "<a href=\"https://colab.research.google.com/github/nitesis/CAS_AICP_M6_Exercises/blob/main/Session_1_Text_Processing.ipynb\" target=\"_parent\"><img src=\"https://colab.research.google.com/assets/colab-badge.svg\" alt=\"Open In Colab\"/></a>"
      ]
    },
    {
      "cell_type": "markdown",
      "source": [
        "# Basics of Text Processing\n",
        "1. Tokenization: Char, Word and Sentence tokenizations and example of Zipf's law.\n",
        "2. Stemming and Lemmatization\n",
        "3. POS tagging\n",
        "4. Ngrams\n",
        "5. Regex\n",
        "\n"
      ],
      "metadata": {
        "id": "4fEmXB6J3ZOt"
      }
    },
    {
      "cell_type": "markdown",
      "source": [
        "### Tokenization"
      ],
      "metadata": {
        "id": "qAUzmzqW37W0"
      }
    },
    {
      "cell_type": "markdown",
      "source": [
        "**NLTK** is a leading platform for building Python programs to work with human language data. It provides easy-to-use interfaces to over 50 corpora and lexical resources such as WordNet, along with a suite of text processing libraries for classification, tokenization, stemming, tagging, parsing, and semantic reasoning, wrappers for industrial-strength NLP libraries, and an active discussion forum.\n",
        "https://www.nltk.org/"
      ],
      "metadata": {
        "id": "0TcDZ_jOf18d"
      }
    },
    {
      "cell_type": "code",
      "execution_count": 1,
      "metadata": {
        "id": "vZ_bw0qOhzLs"
      },
      "outputs": [],
      "source": [
        "import nltk\n",
        "from nltk.probability import FreqDist\n",
        "import matplotlib.pyplot as plt\n",
        "from nltk.tokenize import word_tokenize, sent_tokenize\n",
        "from nltk import pos_tag"
      ]
    },
    {
      "cell_type": "code",
      "source": [
        "nltk.download('gutenberg')  # Sample text corpus from Project Gutenberg\n",
        "nltk.download('punkt')      # Tokenizer\n",
        "nltk.download('punkt_tab')\n",
        "nltk.download('wordnet')\n",
        "nltk.download('averaged_perceptron_tagger_eng')"
      ],
      "metadata": {
        "colab": {
          "base_uri": "https://localhost:8080/"
        },
        "id": "4sz0R7bzh6iX",
        "outputId": "28432c4a-50ee-4a6f-d3a1-e6b62b7082f7"
      },
      "execution_count": 2,
      "outputs": [
        {
          "output_type": "stream",
          "name": "stderr",
          "text": [
            "[nltk_data] Downloading package gutenberg to /root/nltk_data...\n",
            "[nltk_data]   Unzipping corpora/gutenberg.zip.\n",
            "[nltk_data] Downloading package punkt to /root/nltk_data...\n",
            "[nltk_data]   Unzipping tokenizers/punkt.zip.\n",
            "[nltk_data] Downloading package punkt_tab to /root/nltk_data...\n",
            "[nltk_data]   Unzipping tokenizers/punkt_tab.zip.\n",
            "[nltk_data] Downloading package wordnet to /root/nltk_data...\n",
            "[nltk_data] Downloading package averaged_perceptron_tagger_eng to\n",
            "[nltk_data]     /root/nltk_data...\n",
            "[nltk_data]   Unzipping taggers/averaged_perceptron_tagger_eng.zip.\n"
          ]
        },
        {
          "output_type": "execute_result",
          "data": {
            "text/plain": [
              "True"
            ]
          },
          "metadata": {},
          "execution_count": 2
        }
      ]
    },
    {
      "cell_type": "code",
      "source": [
        "# Load own text from the same folder as the code here\n",
        "with open('sample.txt', 'r') as file:\n",
        "    text = file.read()"
      ],
      "metadata": {
        "id": "Xy3Vp5LAilUl"
      },
      "execution_count": null,
      "outputs": []
    },
    {
      "cell_type": "code",
      "source": [
        "# Load a sample text corpus (e.g., 'Moby Dick')\n",
        "from nltk.corpus import gutenberg\n",
        "text = gutenberg.raw('melville-moby_dick.txt')"
      ],
      "metadata": {
        "id": "CZzcwkSOh76A"
      },
      "execution_count": 3,
      "outputs": []
    },
    {
      "cell_type": "code",
      "source": [
        "print(text[0:100])"
      ],
      "metadata": {
        "colab": {
          "base_uri": "https://localhost:8080/"
        },
        "id": "fwgNNmQI3wm0",
        "outputId": "c2c60279-49b0-40cd-f6f0-aceab588eccb"
      },
      "execution_count": 4,
      "outputs": [
        {
          "output_type": "stream",
          "name": "stdout",
          "text": [
            "[Moby Dick by Herman Melville 1851]\r\n",
            "\r\n",
            "\r\n",
            "ETYMOLOGY.\r\n",
            "\r\n",
            "(Supplied by a Late Consumptive Usher to a Gr\n"
          ]
        }
      ]
    },
    {
      "cell_type": "code",
      "source": [
        "sentence_tokens = sent_tokenize(text.lower()) # The function lower helps to make characters lowercase\n",
        "print(sentence_tokens[0:10])"
      ],
      "metadata": {
        "colab": {
          "base_uri": "https://localhost:8080/"
        },
        "id": "xlLHXJ744D6O",
        "outputId": "75cb1249-f450-42d6-82c3-34ab54cba1a6"
      },
      "execution_count": 5,
      "outputs": [
        {
          "output_type": "stream",
          "name": "stdout",
          "text": [
            "['[moby dick by herman melville 1851]\\r\\n\\r\\n\\r\\netymology.', '(supplied by a late consumptive usher to a grammar school)\\r\\n\\r\\nthe pale usher--threadbare in coat, heart, body, and brain; i see him\\r\\nnow.', 'he was ever dusting his old lexicons and grammars, with a queer\\r\\nhandkerchief, mockingly embellished with all the gay flags of all the\\r\\nknown nations of the world.', 'he loved to dust his old grammars; it\\r\\nsomehow mildly reminded him of his mortality.', '\"while you take in hand to school others, and to teach them by what\\r\\nname a whale-fish is to be called in our tongue leaving out, through\\r\\nignorance, the letter h, which almost alone maketh the signification\\r\\nof the word, you deliver that which is not true.\"', '--hackluyt\\r\\n\\r\\n\"whale.', '... sw. and dan.', 'hval.', 'this animal is named from roundness\\r\\nor rolling; for in dan.', 'hvalt is arched or vaulted.\"']\n"
          ]
        }
      ]
    },
    {
      "cell_type": "code",
      "source": [
        "char_tokens = list(text.lower())\n",
        "print(char_tokens[0:10])"
      ],
      "metadata": {
        "colab": {
          "base_uri": "https://localhost:8080/"
        },
        "id": "ZEjrp5_u4rj_",
        "outputId": "056658f9-5888-40f7-ae97-eab6339e67f4"
      },
      "execution_count": 6,
      "outputs": [
        {
          "output_type": "stream",
          "name": "stdout",
          "text": [
            "['[', 'm', 'o', 'b', 'y', ' ', 'd', 'i', 'c', 'k']\n"
          ]
        }
      ]
    },
    {
      "cell_type": "code",
      "source": [
        "# Tokenize the text into words\n",
        "tokens = nltk.word_tokenize(text.lower())\n",
        "print(tokens[0:10])"
      ],
      "metadata": {
        "colab": {
          "base_uri": "https://localhost:8080/"
        },
        "id": "bp0MMxUB3vem",
        "outputId": "c309a58a-0d27-4c4a-8252-99016d4bbaa6"
      },
      "execution_count": 7,
      "outputs": [
        {
          "output_type": "stream",
          "name": "stdout",
          "text": [
            "['[', 'moby', 'dick', 'by', 'herman', 'melville', '1851', ']', 'etymology', '.']\n"
          ]
        }
      ]
    },
    {
      "cell_type": "code",
      "source": [
        "# Calculate word frequencies\n",
        "fdist = FreqDist(tokens)"
      ],
      "metadata": {
        "id": "4jqLxGPsh7-O"
      },
      "execution_count": 9,
      "outputs": []
    },
    {
      "cell_type": "code",
      "source": [
        "fdist"
      ],
      "metadata": {
        "colab": {
          "base_uri": "https://localhost:8080/"
        },
        "id": "K8BmU3E0iccy",
        "outputId": "404e6c51-4602-4af9-f643-19c9a24bb526"
      },
      "execution_count": 10,
      "outputs": [
        {
          "output_type": "execute_result",
          "data": {
            "text/plain": [
              "FreqDist({',': 19204, 'the': 14422, '.': 7284, 'of': 6586, 'and': 6414, 'a': 4698, 'to': 4597, ';': 4173, 'in': 4163, 'that': 3084, ...})"
            ]
          },
          "metadata": {},
          "execution_count": 10
        }
      ]
    },
    {
      "cell_type": "code",
      "source": [
        "# Get frequencies sorted in descending order\n",
        "frequencies = list(fdist.values())\n",
        "frequencies.sort(reverse=True)\n",
        "frequencies[:100] # Show the first 100 words"
      ],
      "metadata": {
        "id": "XHg1DITdibCQ",
        "outputId": "19fd4140-ea6d-4e08-d387-4f45f3db1e76",
        "colab": {
          "base_uri": "https://localhost:8080/"
        }
      },
      "execution_count": 14,
      "outputs": [
        {
          "output_type": "execute_result",
          "data": {
            "text/plain": [
              "[19204,\n",
              " 14422,\n",
              " 7284,\n",
              " 6586,\n",
              " 6414,\n",
              " 4698,\n",
              " 4597,\n",
              " 4173,\n",
              " 4163,\n",
              " 3084,\n",
              " 2530,\n",
              " 2518,\n",
              " 2109,\n",
              " 1895,\n",
              " 1813,\n",
              " 1787,\n",
              " 1767,\n",
              " 1748,\n",
              " 1741,\n",
              " 1722,\n",
              " 1713,\n",
              " 1652,\n",
              " 1616,\n",
              " 1615,\n",
              " 1508,\n",
              " 1456,\n",
              " 1393,\n",
              " 1318,\n",
              " 1218,\n",
              " 1201,\n",
              " 1095,\n",
              " 1088,\n",
              " 1067,\n",
              " 1060,\n",
              " 1059,\n",
              " 1042,\n",
              " 1004,\n",
              " 913,\n",
              " 892,\n",
              " 866,\n",
              " 784,\n",
              " 779,\n",
              " 771,\n",
              " 713,\n",
              " 683,\n",
              " 667,\n",
              " 648,\n",
              " 630,\n",
              " 627,\n",
              " 620,\n",
              " 618,\n",
              " 606,\n",
              " 605,\n",
              " 597,\n",
              " 596,\n",
              " 588,\n",
              " 583,\n",
              " 580,\n",
              " 565,\n",
              " 527,\n",
              " 522,\n",
              " 514,\n",
              " 511,\n",
              " 507,\n",
              " 498,\n",
              " 481,\n",
              " 474,\n",
              " 469,\n",
              " 458,\n",
              " 443,\n",
              " 438,\n",
              " 436,\n",
              " 425,\n",
              " 415,\n",
              " 415,\n",
              " 403,\n",
              " 403,\n",
              " 387,\n",
              " 384,\n",
              " 383,\n",
              " 376,\n",
              " 376,\n",
              " 370,\n",
              " 367,\n",
              " 359,\n",
              " 344,\n",
              " 332,\n",
              " 327,\n",
              " 326,\n",
              " 325,\n",
              " 323,\n",
              " 320,\n",
              " 318,\n",
              " 312,\n",
              " 310,\n",
              " 309,\n",
              " 306,\n",
              " 304,\n",
              " 303,\n",
              " 299]"
            ]
          },
          "metadata": {},
          "execution_count": 14
        }
      ]
    },
    {
      "cell_type": "code",
      "source": [
        "# Plot Zipf's Law (log scale)\n",
        "plt.figure(figsize=(10, 6))\n",
        "plt.loglog(range(1, len(frequencies) + 1), frequencies, marker=\".\", linestyle=\"none\")\n",
        "plt.title(\"Zipf's Law: Word Frequencies in Moby Dick\")\n",
        "plt.xlabel(\"Rank of word (log scale)\")\n",
        "plt.ylabel(\"Frequency of word (log scale)\")\n",
        "plt.grid(True, which=\"both\", linestyle=\"--\", linewidth=0.5)\n",
        "plt.show()"
      ],
      "metadata": {
        "colab": {
          "base_uri": "https://localhost:8080/",
          "height": 569
        },
        "id": "AUjPzfPXh8BS",
        "outputId": "2b409191-24eb-4368-ba9b-fccec9f931df"
      },
      "execution_count": 16,
      "outputs": [
        {
          "output_type": "display_data",
          "data": {
            "text/plain": [
              "<Figure size 1000x600 with 1 Axes>"
            ],
            "image/png": "[encoded data removed]"
          },
          "metadata": {}
        }
      ]
    },
    {
      "cell_type": "code",
      "source": [
        "\n",
        "# Plot Zipf's Law\n",
        "plt.figure(figsize=(10, 6))\n",
        "plt.plot(range(1, len(frequencies) + 1), frequencies, marker=\".\", linestyle=\"none\")\n",
        "plt.title(\"Zipf's Law: Word Frequencies in Moby Dick\")\n",
        "plt.xlabel(\"Rank of word\")\n",
        "plt.ylabel(\"Frequency of word\")\n",
        "plt.grid(True, which=\"both\", linestyle=\"--\", linewidth=0.5)\n",
        "plt.show()"
      ],
      "metadata": {
        "id": "37rj-tZmh8ED",
        "colab": {
          "base_uri": "https://localhost:8080/",
          "height": 564
        },
        "outputId": "16fe2f50-f184-46fb-8283-34fbf7d205ba"
      },
      "execution_count": 17,
      "outputs": [
        {
          "output_type": "display_data",
          "data": {
            "text/plain": [
              "<Figure size 1000x600 with 1 Axes>"
            ],
            "image/png": "[encoded data removed]"
          },
          "metadata": {}
        }
      ]
    },
    {
      "cell_type": "markdown",
      "source": [
        "### Stemming and Lemmatization"
      ],
      "metadata": {
        "id": "MgtktZ0e7Co1"
      }
    },
    {
      "cell_type": "code",
      "source": [
        "from nltk.stem import PorterStemmer\n",
        "\n",
        "porter = PorterStemmer()\n",
        "print(porter.stem(\"go\"))\n",
        "print(porter.stem(\"going\"))\n",
        "print(porter.stem(\"goes\"))\n",
        "print(porter.stem(\"went\"))\n"
      ],
      "metadata": {
        "id": "WVE93o6xh8HB",
        "colab": {
          "base_uri": "https://localhost:8080/"
        },
        "outputId": "7f50ffe5-667e-4fcc-8be4-ce469531001b"
      },
      "execution_count": 18,
      "outputs": [
        {
          "output_type": "stream",
          "name": "stdout",
          "text": [
            "go\n",
            "go\n",
            "goe\n",
            "went\n"
          ]
        }
      ]
    },
    {
      "cell_type": "code",
      "source": [
        "for word in tokens[1:20]:\n",
        "  print(word, porter.stem(word))"
      ],
      "metadata": {
        "id": "3aBBSfHdh8Jv",
        "colab": {
          "base_uri": "https://localhost:8080/"
        },
        "outputId": "e254448a-6ac4-4045-86bf-adfca1b377f5"
      },
      "execution_count": 19,
      "outputs": [
        {
          "output_type": "stream",
          "name": "stdout",
          "text": [
            "moby mobi\n",
            "dick dick\n",
            "by by\n",
            "herman herman\n",
            "melville melvil\n",
            "1851 1851\n",
            "] ]\n",
            "etymology etymolog\n",
            ". .\n",
            "( (\n",
            "supplied suppli\n",
            "by by\n",
            "a a\n",
            "late late\n",
            "consumptive consumpt\n",
            "usher usher\n",
            "to to\n",
            "a a\n",
            "grammar grammar\n"
          ]
        }
      ]
    },
    {
      "cell_type": "code",
      "source": [
        "from nltk.stem import WordNetLemmatizer\n",
        "lemmatizer = WordNetLemmatizer()\n",
        "print(lemmatizer.lemmatize(\"go\", 'v')) #In lemmatizers, we need to pass the Part of Speech of the word (here verb) along with the word as a function argument.\n",
        "print(lemmatizer.lemmatize(\"going\", 'v'))\n",
        "print(lemmatizer.lemmatize(\"goes\", 'v'))\n",
        "print(lemmatizer.lemmatize(\"went\", 'v'))"
      ],
      "metadata": {
        "colab": {
          "base_uri": "https://localhost:8080/"
        },
        "id": "fV9gnI8L7csh",
        "outputId": "e1eb4dfc-d095-4ac0-c4ed-8a49b81b29df"
      },
      "execution_count": 20,
      "outputs": [
        {
          "output_type": "stream",
          "name": "stdout",
          "text": [
            "go\n",
            "go\n",
            "go\n",
            "go\n"
          ]
        }
      ]
    },
    {
      "cell_type": "markdown",
      "source": [
        "### Parts of Speech\n",
        "The list of all possible tags from the official site are [here](https://www.ling.upenn.edu/courses/Fall_2003/ling001/penn_treebank_pos.html)."
      ],
      "metadata": {
        "id": "ejKXB2dt8DFG"
      }
    },
    {
      "cell_type": "code",
      "source": [
        "#With NLTK\n",
        "tags = pos_tag(tokens[0:20])\n",
        "tags"
      ],
      "metadata": {
        "colab": {
          "base_uri": "https://localhost:8080/"
        },
        "id": "BF9926Ah7yK3",
        "outputId": "16435ea6-0b64-460f-af13-211139ef1ce0"
      },
      "execution_count": 23,
      "outputs": [
        {
          "output_type": "execute_result",
          "data": {
            "text/plain": [
              "[('[', 'JJ'),\n",
              " ('moby', 'NN'),\n",
              " ('dick', 'NN'),\n",
              " ('by', 'IN'),\n",
              " ('herman', 'NN'),\n",
              " ('melville', 'NN'),\n",
              " ('1851', 'CD'),\n",
              " (']', 'NNP'),\n",
              " ('etymology', 'NN'),\n",
              " ('.', '.'),\n",
              " ('(', '('),\n",
              " ('supplied', 'VBN'),\n",
              " ('by', 'IN'),\n",
              " ('a', 'DT'),\n",
              " ('late', 'JJ'),\n",
              " ('consumptive', 'NN'),\n",
              " ('usher', 'NN'),\n",
              " ('to', 'TO'),\n",
              " ('a', 'DT'),\n",
              " ('grammar', 'NN')]"
            ]
          },
          "metadata": {},
          "execution_count": 23
        }
      ]
    },
    {
      "cell_type": "code",
      "source": [
        "# With Spacy\n",
        "!pip install spacy\n",
        "!python -m spacy download en_core_web_sm\n"
      ],
      "metadata": {
        "id": "jxzPCy09AZD2"
      },
      "execution_count": null,
      "outputs": []
    },
    {
      "cell_type": "code",
      "source": [
        "import spacy\n",
        "from spacy import displacy\n",
        "nlp = spacy.load(\"en_core_web_sm\")"
      ],
      "metadata": {
        "id": "jMJHVmFkAe6i"
      },
      "execution_count": null,
      "outputs": []
    },
    {
      "cell_type": "code",
      "source": [
        "# Input sentence\n",
        "sentence = \"a happy dog is on the train\"\n",
        "\n",
        "# Process the sentence using spaCy\n",
        "doc = nlp(sentence)\n",
        "\n",
        "# Print each word with its corresponding POS tag\n",
        "print(\"Word\\tPOS\\t\\tExplanation\")\n",
        "print(\"-\" * 30)\n",
        "for token in doc:\n",
        "    print(f\"{token.text}\\t{token.pos_}\\t\\t{spacy.explain(token.pos_)}\")"
      ],
      "metadata": {
        "colab": {
          "base_uri": "https://localhost:8080/"
        },
        "id": "JDIuRh9VAl-b",
        "outputId": "d49c152b-e324-48a2-e17e-d71a15274526"
      },
      "execution_count": null,
      "outputs": [
        {
          "output_type": "stream",
          "name": "stdout",
          "text": [
            "Word\tPOS\t\tExplanation\n",
            "------------------------------\n",
            "a\tDET\t\tdeterminer\n",
            "happy\tADJ\t\tadjective\n",
            "dog\tNOUN\t\tnoun\n",
            "is\tAUX\t\tauxiliary\n",
            "on\tADP\t\tadposition\n",
            "the\tDET\t\tdeterminer\n",
            "train\tNOUN\t\tnoun\n"
          ]
        }
      ]
    },
    {
      "cell_type": "code",
      "source": [
        "displacy.serve(doc, style=\"dep\")"
      ],
      "metadata": {
        "colab": {
          "base_uri": "https://localhost:8080/",
          "height": 585
        },
        "id": "GED1OWORAn-8",
        "outputId": "0b1864b4-f6e2-431f-a0ac-f230abd54bcf"
      },
      "execution_count": null,
      "outputs": [
        {
          "output_type": "stream",
          "name": "stderr",
          "text": [
            "/usr/local/lib/python3.10/dist-packages/spacy/displacy/__init__.py:106: UserWarning: [W011] It looks like you're calling displacy.serve from within a Jupyter notebook or a similar environment. This likely means you're already running a local web server, so there's no need to make displaCy start another one. Instead, you should be able to replace displacy.serve with displacy.render to show the visualization.\n",
            "  warnings.warn(Warnings.W011)\n"
          ]
        },
        {
          "output_type": "display_data",
          "data": {
            "text/plain": [
              "<IPython.core.display.HTML object>"
            ],
            "text/html": [
              "<span class=\"tex2jax_ignore\"><!DOCTYPE html>\n",
              "<html lang=\"en\">\n",
              "    <head>\n",
              "        <title>displaCy</title>\n",
              "    </head>\n",
              "\n",
              "    <body style=\"font-size: 16px; font-family: -apple-system, BlinkMacSystemFont, 'Segoe UI', Helvetica, Arial, sans-serif, 'Apple Color Emoji', 'Segoe UI Emoji', 'Segoe UI Symbol'; padding: 4rem 2rem; direction: ltr\">\n",
              "<figure style=\"margin-bottom: 6rem\">\n",
              "<svg xmlns=\"http://www.w3.org/2000/svg\" xmlns:xlink=\"http://www.w3.org/1999/xlink\" xml:lang=\"en\" id=\"3aef2564abcb49dea28ebfe79dd16265-0\" class=\"displacy\" width=\"1275\" height=\"312.0\" direction=\"ltr\" style=\"max-width: none; height: 312.0px; color: #000000; background: #ffffff; font-family: Arial; direction: ltr\">\n",
              "<text class=\"displacy-token\" fill=\"currentColor\" text-anchor=\"middle\" y=\"222.0\">\n",
              "    <tspan class=\"displacy-word\" fill=\"currentColor\" x=\"50\">a</tspan>\n",
              "    <tspan class=\"displacy-tag\" dy=\"2em\" fill=\"currentColor\" x=\"50\">DET</tspan>\n",
              "</text>\n",
              "\n",
              "<text class=\"displacy-token\" fill=\"currentColor\" text-anchor=\"middle\" y=\"222.0\">\n",
              "    <tspan class=\"displacy-word\" fill=\"currentColor\" x=\"225\">happy</tspan>\n",
              "    <tspan class=\"displacy-tag\" dy=\"2em\" fill=\"currentColor\" x=\"225\">ADJ</tspan>\n",
              "</text>\n",
              "\n",
              "<text class=\"displacy-token\" fill=\"currentColor\" text-anchor=\"middle\" y=\"222.0\">\n",
              "    <tspan class=\"displacy-word\" fill=\"currentColor\" x=\"400\">dog</tspan>\n",
              "    <tspan class=\"displacy-tag\" dy=\"2em\" fill=\"currentColor\" x=\"400\">NOUN</tspan>\n",
              "</text>\n",
              "\n",
              "<text class=\"displacy-token\" fill=\"currentColor\" text-anchor=\"middle\" y=\"222.0\">\n",
              "    <tspan class=\"displacy-word\" fill=\"currentColor\" x=\"575\">is</tspan>\n",
              "    <tspan class=\"displacy-tag\" dy=\"2em\" fill=\"currentColor\" x=\"575\">AUX</tspan>\n",
              "</text>\n",
              "\n",
              "<text class=\"displacy-token\" fill=\"currentColor\" text-anchor=\"middle\" y=\"222.0\">\n",
              "    <tspan class=\"displacy-word\" fill=\"currentColor\" x=\"750\">on</tspan>\n",
              "    <tspan class=\"displacy-tag\" dy=\"2em\" fill=\"currentColor\" x=\"750\">ADP</tspan>\n",
              "</text>\n",
              "\n",
              "<text class=\"displacy-token\" fill=\"currentColor\" text-anchor=\"middle\" y=\"222.0\">\n",
              "    <tspan class=\"displacy-word\" fill=\"currentColor\" x=\"925\">the</tspan>\n",
              "    <tspan class=\"displacy-tag\" dy=\"2em\" fill=\"currentColor\" x=\"925\">DET</tspan>\n",
              "</text>\n",
              "\n",
              "<text class=\"displacy-token\" fill=\"currentColor\" text-anchor=\"middle\" y=\"222.0\">\n",
              "    <tspan class=\"displacy-word\" fill=\"currentColor\" x=\"1100\">train</tspan>\n",
              "    <tspan class=\"displacy-tag\" dy=\"2em\" fill=\"currentColor\" x=\"1100\">NOUN</tspan>\n",
              "</text>\n",
              "\n",
              "<g class=\"displacy-arrow\">\n",
              "    <path class=\"displacy-arc\" id=\"arrow-3aef2564abcb49dea28ebfe79dd16265-0-0\" stroke-width=\"2px\" d=\"M70,177.0 C70,2.0 400.0,2.0 400.0,177.0\" fill=\"none\" stroke=\"currentColor\"/>\n",
              "    <text dy=\"1.25em\" style=\"font-size: 0.8em; letter-spacing: 1px\">\n",
              "        <textPath xlink:href=\"#arrow-3aef2564abcb49dea28ebfe79dd16265-0-0\" class=\"displacy-label\" startOffset=\"50%\" side=\"left\" fill=\"currentColor\" text-anchor=\"middle\">det</textPath>\n",
              "    </text>\n",
              "    <path class=\"displacy-arrowhead\" d=\"M70,179.0 L62,167.0 78,167.0\" fill=\"currentColor\"/>\n",
              "</g>\n",
              "\n",
              "<g class=\"displacy-arrow\">\n",
              "    <path class=\"displacy-arc\" id=\"arrow-3aef2564abcb49dea28ebfe79dd16265-0-1\" stroke-width=\"2px\" d=\"M245,177.0 C245,89.5 395.0,89.5 395.0,177.0\" fill=\"none\" stroke=\"currentColor\"/>\n",
              "    <text dy=\"1.25em\" style=\"font-size: 0.8em; letter-spacing: 1px\">\n",
              "        <textPath xlink:href=\"#arrow-3aef2564abcb49dea28ebfe79dd16265-0-1\" class=\"displacy-label\" startOffset=\"50%\" side=\"left\" fill=\"currentColor\" text-anchor=\"middle\">amod</textPath>\n",
              "    </text>\n",
              "    <path class=\"displacy-arrowhead\" d=\"M245,179.0 L237,167.0 253,167.0\" fill=\"currentColor\"/>\n",
              "</g>\n",
              "\n",
              "<g class=\"displacy-arrow\">\n",
              "    <path class=\"displacy-arc\" id=\"arrow-3aef2564abcb49dea28ebfe79dd16265-0-2\" stroke-width=\"2px\" d=\"M420,177.0 C420,89.5 570.0,89.5 570.0,177.0\" fill=\"none\" stroke=\"currentColor\"/>\n",
              "    <text dy=\"1.25em\" style=\"font-size: 0.8em; letter-spacing: 1px\">\n",
              "        <textPath xlink:href=\"#arrow-3aef2564abcb49dea28ebfe79dd16265-0-2\" class=\"displacy-label\" startOffset=\"50%\" side=\"left\" fill=\"currentColor\" text-anchor=\"middle\">nsubj</textPath>\n",
              "    </text>\n",
              "    <path class=\"displacy-arrowhead\" d=\"M420,179.0 L412,167.0 428,167.0\" fill=\"currentColor\"/>\n",
              "</g>\n",
              "\n",
              "<g class=\"displacy-arrow\">\n",
              "    <path class=\"displacy-arc\" id=\"arrow-3aef2564abcb49dea28ebfe79dd16265-0-3\" stroke-width=\"2px\" d=\"M595,177.0 C595,89.5 745.0,89.5 745.0,177.0\" fill=\"none\" stroke=\"currentColor\"/>\n",
              "    <text dy=\"1.25em\" style=\"font-size: 0.8em; letter-spacing: 1px\">\n",
              "        <textPath xlink:href=\"#arrow-3aef2564abcb49dea28ebfe79dd16265-0-3\" class=\"displacy-label\" startOffset=\"50%\" side=\"left\" fill=\"currentColor\" text-anchor=\"middle\">prep</textPath>\n",
              "    </text>\n",
              "    <path class=\"displacy-arrowhead\" d=\"M745.0,179.0 L753.0,167.0 737.0,167.0\" fill=\"currentColor\"/>\n",
              "</g>\n",
              "\n",
              "<g class=\"displacy-arrow\">\n",
              "    <path class=\"displacy-arc\" id=\"arrow-3aef2564abcb49dea28ebfe79dd16265-0-4\" stroke-width=\"2px\" d=\"M945,177.0 C945,89.5 1095.0,89.5 1095.0,177.0\" fill=\"none\" stroke=\"currentColor\"/>\n",
              "    <text dy=\"1.25em\" style=\"font-size: 0.8em; letter-spacing: 1px\">\n",
              "        <textPath xlink:href=\"#arrow-3aef2564abcb49dea28ebfe79dd16265-0-4\" class=\"displacy-label\" startOffset=\"50%\" side=\"left\" fill=\"currentColor\" text-anchor=\"middle\">det</textPath>\n",
              "    </text>\n",
              "    <path class=\"displacy-arrowhead\" d=\"M945,179.0 L937,167.0 953,167.0\" fill=\"currentColor\"/>\n",
              "</g>\n",
              "\n",
              "<g class=\"displacy-arrow\">\n",
              "    <path class=\"displacy-arc\" id=\"arrow-3aef2564abcb49dea28ebfe79dd16265-0-5\" stroke-width=\"2px\" d=\"M770,177.0 C770,2.0 1100.0,2.0 1100.0,177.0\" fill=\"none\" stroke=\"currentColor\"/>\n",
              "    <text dy=\"1.25em\" style=\"font-size: 0.8em; letter-spacing: 1px\">\n",
              "        <textPath xlink:href=\"#arrow-3aef2564abcb49dea28ebfe79dd16265-0-5\" class=\"displacy-label\" startOffset=\"50%\" side=\"left\" fill=\"currentColor\" text-anchor=\"middle\">pobj</textPath>\n",
              "    </text>\n",
              "    <path class=\"displacy-arrowhead\" d=\"M1100.0,179.0 L1108.0,167.0 1092.0,167.0\" fill=\"currentColor\"/>\n",
              "</g>\n",
              "</svg>\n",
              "</figure>\n",
              "</body>\n",
              "</html></span>"
            ]
          },
          "metadata": {}
        },
        {
          "output_type": "stream",
          "name": "stdout",
          "text": [
            "\n",
            "Using the 'dep' visualizer\n",
            "Serving on http://0.0.0.0:5000 ...\n",
            "\n",
            "Shutting down server on port 5000.\n"
          ]
        }
      ]
    },
    {
      "cell_type": "markdown",
      "source": [
        "### NGrams"
      ],
      "metadata": {
        "id": "0Jfl7NWG8_6M"
      }
    },
    {
      "cell_type": "code",
      "source": [
        "from collections import Counter\n",
        "\n",
        "# Function to generate n-grams for words\n",
        "def word_ngrams(token_list, n):\n",
        "    return [' '.join([token for token in token_list[i:i+n]]) for i in range(len(token_list) - n + 1)]\n",
        "\n",
        "# Function to generate n-grams for characters\n",
        "def char_ngrams(token_list, n):\n",
        "    text = \"\".join(token_list)\n",
        "    return [text[i:i+n] for i in range(len(text) - n + 1)]\n",
        "\n",
        "# Count word n-grams (e.g., bigrams and trigrams)\n",
        "word_bigrams = word_ngrams(tokens[0:10], 2)\n",
        "word_trigrams = word_ngrams(tokens[0:10], 3)\n",
        "\n",
        "# Count character n-grams (e.g., 2-grams and 3-grams)\n",
        "char_bigrams = char_ngrams(tokens[0:10], 2)\n",
        "char_trigrams = char_ngrams(tokens[0:10], 3)\n",
        "\n",
        "# Display results\n",
        "print(\"Word Bigrams:\", Counter(word_bigrams))\n",
        "print(\"Word Trigrams:\", Counter(word_trigrams))\n",
        "print(\"Character Bigrams:\", Counter(char_bigrams))\n",
        "print(\"Character Trigrams:\", Counter(char_trigrams))"
      ],
      "metadata": {
        "colab": {
          "base_uri": "https://localhost:8080/"
        },
        "id": "0-B9EMFxBINu",
        "outputId": "f534bcd6-f4cb-4f16-a4fa-c5105c09d881"
      },
      "execution_count": null,
      "outputs": [
        {
          "output_type": "stream",
          "name": "stdout",
          "text": [
            "Word Bigrams: Counter({'[ moby': 1, 'moby dick': 1, 'dick by': 1, 'by herman': 1, 'herman melville': 1, 'melville 1851': 1, '1851 ]': 1, '] etymology': 1, 'etymology .': 1})\n",
            "Word Trigrams: Counter({'[ moby dick': 1, 'moby dick by': 1, 'dick by herman': 1, 'by herman melville': 1, 'herman melville 1851': 1, 'melville 1851 ]': 1, '1851 ] etymology': 1, '] etymology .': 1})\n",
            "Character Bigrams: Counter({'mo': 2, 'by': 2, '[m': 1, 'ob': 1, 'yd': 1, 'di': 1, 'ic': 1, 'ck': 1, 'kb': 1, 'yh': 1, 'he': 1, 'er': 1, 'rm': 1, 'ma': 1, 'an': 1, 'nm': 1, 'me': 1, 'el': 1, 'lv': 1, 'vi': 1, 'il': 1, 'll': 1, 'le': 1, 'e1': 1, '18': 1, '85': 1, '51': 1, '1]': 1, ']e': 1, 'et': 1, 'ty': 1, 'ym': 1, 'ol': 1, 'lo': 1, 'og': 1, 'gy': 1, 'y.': 1})\n",
            "Character Trigrams: Counter({'[mo': 1, 'mob': 1, 'oby': 1, 'byd': 1, 'ydi': 1, 'dic': 1, 'ick': 1, 'ckb': 1, 'kby': 1, 'byh': 1, 'yhe': 1, 'her': 1, 'erm': 1, 'rma': 1, 'man': 1, 'anm': 1, 'nme': 1, 'mel': 1, 'elv': 1, 'lvi': 1, 'vil': 1, 'ill': 1, 'lle': 1, 'le1': 1, 'e18': 1, '185': 1, '851': 1, '51]': 1, '1]e': 1, ']et': 1, 'ety': 1, 'tym': 1, 'ymo': 1, 'mol': 1, 'olo': 1, 'log': 1, 'ogy': 1, 'gy.': 1})\n"
          ]
        }
      ]
    },
    {
      "cell_type": "markdown",
      "source": [
        "## Todo\n",
        "\n",
        "Write a function to return all unique matching words and word variations when given a stemm word and a list of tokens\n"
      ],
      "metadata": {
        "id": "5C7hWeD69HR9"
      }
    },
    {
      "cell_type": "code",
      "source": [
        "def find_mentions(word, tokens):\n",
        "  matching_words =\n",
        "  #\n",
        "  #\n",
        "  #\n",
        "  return matching_words"
      ],
      "metadata": {
        "id": "pgOnwCeK9GTf"
      },
      "execution_count": null,
      "outputs": []
    },
    {
      "cell_type": "code",
      "source": [
        "find_mentions(\"whale\", tokens[0:20000])"
      ],
      "metadata": {
        "colab": {
          "base_uri": "https://localhost:8080/"
        },
        "id": "jwVhZjqjDxfK",
        "outputId": "adc17d06-d313-4228-92c2-27f0ca10e2cc"
      },
      "execution_count": null,
      "outputs": [
        {
          "output_type": "execute_result",
          "data": {
            "text/plain": [
              "{'whale', 'whales', 'whaling'}"
            ]
          },
          "metadata": {},
          "execution_count": 15
        }
      ]
    },
    {
      "cell_type": "markdown",
      "source": [
        "### Regex\n",
        "1. Use re.match() to find a match at the start of a string\n",
        "2. Use re.search() to find the first occurrence of a pattern anywhere in a string.\n",
        "3. Use re.findall() to get all occurrences of a pattern.\n",
        "4. Use re.sub() to replace matches with a string.\n",
        "5. Common Patterns\n",
        "\n",
        "\n",
        "| Pattern     | Matches                          |\n",
        "|-------------|----------------------------------|\n",
        "| `\\d`        | Any digit (`0-9`)               |\n",
        "| `\\w`        | Any word character (`a-z`, `A-Z`, `0-9`, `_`) |\n",
        "| `.`         | Any character except newline    |\n",
        "| `*`         | 0 or more repetitions           |\n",
        "| `+`         | 1 or more repetitions           |\n",
        "| `?`         | 0 or 1 repetition               |\n",
        "| `[abc]`     | Any character in `a`, `b`, `c`  |\n",
        "| `[^abc]`    | Any character not in `a`, `b`, `c` |\n",
        "| `[a-z]`     | Any lowercase letter            |\n",
        "| `[A-Z]`     | Any uppercase letter            |\n",
        "| `[0-9]`     | Any digit                       |\n",
        "| `^`         | Start of a string               |\n",
        "| `$`         | End of a string                 |\n",
        "| `\\s`        | Any whitespace character        |\n",
        "| `\\S`        | Any non-whitespace character    |\n",
        "| `\\b`        | Word boundary                   |\n",
        "| `\\B`        | Non-word boundary               |\n",
        "| `|`         | Logical OR                      |\n",
        "| `( )`       | Capturing group                 |\n",
        "| `(?: )`     | Non-capturing group             |\n",
        "| `\\`         | Escape special characters       |\n",
        "\n"
      ],
      "metadata": {
        "id": "twnikBN39ACv"
      }
    },
    {
      "cell_type": "code",
      "source": [
        "import re"
      ],
      "metadata": {
        "id": "FtEl1GSYB9pb"
      },
      "execution_count": null,
      "outputs": []
    },
    {
      "cell_type": "markdown",
      "source": [
        "## Todo\n",
        "\n",
        "Write a function to return all unique matching words and word variations when given a word and a list of tokens **using regex**\n"
      ],
      "metadata": {
        "id": "HeZ0wq7ZGF41"
      }
    },
    {
      "cell_type": "code",
      "source": [
        "def find_mentions(word, tokens):\n",
        "  matching_word_set =\n",
        "  #\n",
        "  #\n",
        "  #\n",
        "  return matching_word_set"
      ],
      "metadata": {
        "id": "dU1z6Qs9-7-C"
      },
      "execution_count": null,
      "outputs": []
    },
    {
      "cell_type": "code",
      "source": [
        "find_mentions(\"whale\", tokens[0:20000])"
      ],
      "metadata": {
        "colab": {
          "base_uri": "https://localhost:8080/"
        },
        "id": "bb51lar-EVFV",
        "outputId": "f108ff09-01a3-4251-9f56-0661cbe52a46"
      },
      "execution_count": null,
      "outputs": [
        {
          "output_type": "execute_result",
          "data": {
            "text/plain": [
              "{'horse-whales',\n",
              " 'jonas-in-the-whale',\n",
              " 'whale',\n",
              " 'whale-bone',\n",
              " 'whale-fish',\n",
              " 'whale-fishery',\n",
              " 'whale-lance',\n",
              " 'whale-ship',\n",
              " 'whaleman',\n",
              " 'whalemen',\n",
              " 'whales'}"
            ]
          },
          "metadata": {},
          "execution_count": 19
        }
      ]
    },
    {
      "cell_type": "code",
      "source": [],
      "metadata": {
        "id": "ggzMx7UbEXAP"
      },
      "execution_count": null,
      "outputs": []
    }
  ]
}